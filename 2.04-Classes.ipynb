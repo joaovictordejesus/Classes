{
 "cells": [
  {
   "cell_type": "markdown",
   "metadata": {},
   "source": [
    "> Projeto Desenvolve <br>\n",
    "Programação Intermediária com Python <br>\n",
    "Profa. Camila Laranjeira (mila@projetodesenvolve.com.br) <br>\n",
    "\n",
    "# 2.4 - Classes, atributos e métodos"
   ]
  },
  {
   "cell_type": "markdown",
   "metadata": {},
   "source": [
    "## Exercícios\n",
    "\n",
    "#### Q1.\n",
    "Vamos criar aos pouquinhos uma classe Evento que registra eventos de um calendário. Pra começar, nessa questão você deve:\n",
    "\n",
    "* Criar uma classe chamada Evento\n",
    "* Adicionar um atributo de classe `total_eventos` que será usado para contar o número total de eventos (instâncias de classe) criadas.\n",
    "* Implemente o método construtor que deve receber os parâmetros `titulo` (`string`), `data_hora` (`datetime`), `descrição` (`string`). Crie e inicialize um atributo de instância para cada um dos parâmetros citados.\n",
    "* O construtor também deve inicializar um atributo de instância `is_concluido = False`. Esse atributo será utilizado mais à frente. \n",
    "* No construtor você também deve incrementar o atributo de classe `total_eventos` em 1 a cada nova instância criada.\n",
    "\n",
    "Teste o seu código criando duas diferentes instâncias de evento (preencha os atributos como quiser) e imprimindo todos os seus atributos (de classe e de instância).\n",
    "\n",
    "> Consulte [este tutorial biblioteca `datetime`](https://www.w3schools.com/python/python_datetime.asp) caso não esteja familiarizado."
   ]
  },
  {
   "cell_type": "code",
   "execution_count": null,
   "metadata": {
    "vscode": {
     "languageId": "plaintext"
    }
   },
   "outputs": [],
   "source": [
    "#João Victor de Jesus Augusto \n",
    "from datetime import datetime\n",
    "\n",
    "class Evento:\n",
    "    # Atributo de classe para contar o número total de eventos\n",
    "    total_eventos = 0\n",
    "\n",
    "    def __init__(self, titulo, data_hora, descricao):\n",
    "        # Atributos de instância\n",
    "        self.titulo = titulo\n",
    "        self.data_hora = data_hora\n",
    "        self.descricao = descricao\n",
    "        self.is_concluido = False\n",
    "        \n",
    "        # Incrementar o contador de eventos ao criar uma nova instância\n",
    "        Evento.total_eventos += 1\n",
    "\n",
    "# Criando duas instâncias de eventos\n",
    "evento1 = Evento(\"Encontro na Funcesi\", datetime(2024, 12, 27, 10, 0), \"Reunião para discutir sobre os Trabalhos do PD.\")\n",
    "evento2 = Evento(\"Palestra sobre Tecnologia na UNA\", datetime(2024, 12, 28, 14, 0), \"Palestra sobre tecnologia e Inteligência Artificial\")\n",
    "\n",
    "# Imprimindo atributos das instâncias e da classe\n",
    "print(f\"Evento 1 - Título: {evento1.titulo}, Data e Hora: {evento1.data_hora}, Descrição: {evento1.descricao}, Concluído: {evento1.is_concluido}\")\n",
    "print(f\"Evento 2 - Título: {evento2.titulo}, Data e Hora: {evento2.data_hora}, Descrição: {evento2.descricao}, Concluído: {evento2.is_concluido}\")\n",
    "print(f\"Total de eventos criados: {Evento.total_eventos}\")\n"
   ]
  },
  {
   "cell_type": "markdown",
   "metadata": {},
   "source": [
    "#### Q2.\n",
    "Agora vamos adicionar métodos à nossa classe. Lembre dos diferentes decoradores que aprendemos. Você deve redefinir a classe com os seguintes métodos:\n",
    "* Um método `isConcluido()` que avalia se a `data_hora` do evento é menor que `datetime.now()` (a data e hora atual). Em caso positivo, atualiza o atributo de instância `is_concluido` para o valor `True`. \n",
    "* Um método de classe `num_eventos()` que retorna o valor do atributo de classe `total_eventos`.\n",
    "* Um método estático `valida_evento(nome, data_hora, descricao)` que recebe os atributos de um evento e testa os tipos de cada variável, retornando `True` caso todos estejam corretos e `False` caso contrário. Para o teste, use a função nativa do Python [`isinstance`](https://www.w3schools.com/python/ref_func_isinstance.asp).\n",
    "\n",
    "Para testar sua classe atualizada:\n",
    "* Crie uma instância de Evento com valor passado e chame o método `isConcluido()` para a instância criada. Em seguida imprima o atributo `is_concluido`. \n",
    "* Invoque o método de classe `num_eventos()` a partir da classe Evento (ou seja, sem criar nenhuma instância).\n",
    "* Chame o método estático `valida_evento()` a partir da classe Evento. Experimente passar valores corretos e incorretos. \n"
   ]
  },
  {
   "cell_type": "code",
   "execution_count": null,
   "metadata": {
    "vscode": {
     "languageId": "plaintext"
    }
   },
   "outputs": [],
   "source": [
    "# João Victor de Jesus Augusto\n",
    "from datetime import datetime\n",
    "\n",
    "class Evento:\n",
    "    # Atributo de classe para contar o número total de eventos\n",
    "    total_eventos = 0\n",
    "\n",
    "    def __init__(self, titulo, data_hora, descricao):\n",
    "        # Atributos de instância\n",
    "        self.titulo = titulo\n",
    "        self.data_hora = data_hora\n",
    "        self.descricao = descricao\n",
    "        self.is_concluido = False\n",
    "        \n",
    "        # Incrementar o contador de eventos ao criar uma nova instância\n",
    "        Evento.total_eventos += 1\n",
    "\n",
    "    def isConcluido(self):\n",
    "        # Verifica se a data do evento já passou e atualiza o status\n",
    "        if self.data_hora < datetime.now():\n",
    "            self.is_concluido = True\n",
    "\n",
    "    @classmethod\n",
    "    def num_eventos(cls):\n",
    "        # Retorna o total de eventos\n",
    "        return cls.total_eventos\n",
    "\n",
    "    @staticmethod\n",
    "    def valida_evento(nome, data_hora, descricao):\n",
    "        # Valida os tipos dos parâmetros passados\n",
    "        if isinstance(nome, str) and isinstance(data_hora, datetime) and isinstance(descricao, str):\n",
    "            return True\n",
    "        return False\n",
    "\n",
    "# Testando os métodos da classe Evento\n",
    "\n",
    "# Criando uma instância\n",
    "evento3 = Evento(\"Conferência de Tecnologia\", datetime(2024, 12, 26, 9, 0), \"Conferência sobre as novas inovações no setor de tecnologia.\")\n",
    "\n",
    "# Testando o método isConcluido\n",
    "evento3.isConcluido()\n",
    "print(f\"Evento 3 concluído? {evento3.is_concluido}\")\n",
    "\n",
    "# Testando o método de classe num_eventos\n",
    "print(f\"Total de eventos criados: {Evento.num_eventos()}\")\n",
    "\n",
    "# Testando o método estático valida_evento com valores corretos\n",
    "print(f\"Evento válido (correto): {Evento.valida_evento('Webinar de Python', datetime(2024, 12, 30, 14, 0), 'Webinar sobre Python.')}\")\n",
    "# Testando o método estático valida_evento com valores incorretos\n",
    "print(f\"Evento válido (incorreto): {Evento.valida_evento('Seminário', '2024-12-30', 'Seminário sobre inovação.')}\")\n"
   ]
  },
  {
   "cell_type": "markdown",
   "metadata": {
    "vscode": {
     "languageId": "plaintext"
    }
   },
   "source": [
    "#### Q3.\n",
    "\n",
    "Vamos incluir métodos mágicos! ✨🪄🔮\n",
    "\n",
    "Redefina a classe incluindo\":\n",
    "* Método `__str__` que imprime os atributos do evento na forma `\"Evento: titulo, Data: data_hora, Descrição: descricao, Concluido: is_concluido\"`.\n",
    "* Implemente os métodos de comparação `__eq__`, `__ne__`, `__lt__`, `__le__`, `__gt__` e `__ge__` para comparar eventos baseados no atributo `data_hora`. Esses métodos devem comparar duas instâncias de Evento e retornar os resultados apropriados (`True` ou `False`).\n",
    "\n",
    "Para testar, crie duas instâncias de Evento com datas diferentes. Imprima as instâncias com a função `print()` e apresente o resultado das comparações entre eventos (`==`, `!=`, `<`, `<=`, `>`, `>=`)."
   ]
  },
  {
   "cell_type": "code",
   "execution_count": null,
   "metadata": {
    "vscode": {
     "languageId": "plaintext"
    }
   },
   "outputs": [],
   "source": [
    "#João Victor de Jesus Augusto\n",
    "from datetime import datetime\n",
    "\n",
    "class Evento:\n",
    "    # Atributo de classe para contar o número total de eventos\n",
    "    total_eventos = 0\n",
    "\n",
    "    def __init__(self, titulo, data_hora, descricao):\n",
    "        # Atributos de instância\n",
    "        self.titulo = titulo\n",
    "        self.data_hora = data_hora\n",
    "        self.descricao = descricao\n",
    "        self.is_concluido = False\n",
    "        \n",
    "        # Incrementar o contador de eventos ao criar uma nova instância\n",
    "        Evento.total_eventos += 1\n",
    "\n",
    "    def isConcluido(self):\n",
    "        # Verifica se a data do evento já passou e atualiza o status\n",
    "        if self.data_hora < datetime.now():\n",
    "            self.is_concluido = True\n",
    "\n",
    "    @classmethod\n",
    "    def num_eventos(cls):\n",
    "        # Retorna o total de eventos\n",
    "        return cls.total_eventos\n",
    "\n",
    "    @staticmethod\n",
    "    def valida_evento(nome, data_hora, descricao):\n",
    "        # Valida os tipos dos parâmetros passados\n",
    "        if isinstance(nome, str) and isinstance(data_hora, datetime) and isinstance(descricao, str):\n",
    "            return True\n",
    "        return False\n",
    "\n",
    "    # Método mágico __str__ para representar a instância como string\n",
    "    def __str__(self):\n",
    "        return f\"Evento: {self.titulo}, Data: {self.data_hora}, Descrição: {self.descricao}, Concluído: {self.is_concluido}\"\n",
    "\n",
    "    # Métodos mágicos de comparação\n",
    "    def __eq__(self, other):\n",
    "        return self.data_hora == other.data_hora\n",
    "\n",
    "    def __ne__(self, other):\n",
    "        return self.data_hora != other.data_hora\n",
    "\n",
    "    def __lt__(self, other):\n",
    "        return self.data_hora < other.data_hora\n",
    "\n",
    "    def __le__(self, other):\n",
    "        return self.data_hora <= other.data_hora\n",
    "\n",
    "    def __gt__(self, other):\n",
    "        return self.data_hora > other.data_hora\n",
    "\n",
    "    def __ge__(self, other):\n",
    "        return self.data_hora >= other.data_hora\n",
    "\n",
    "\n",
    "# Testando os métodos mágicos\n",
    "\n",
    "# Criando duas instâncias de evento com datas diferentes\n",
    "evento4 = Evento(\"Evento de Lançamento\", datetime(2024, 12, 30, 10, 0), \"Lançamento de um novo produto.\")\n",
    "evento5 = Evento(\"Festa de Fim de Ano\", datetime(2024, 12, 31, 20, 0), \"Festa para celebrar o final do ano.\")\n",
    "\n",
    "# Imprimindo as instâncias usando o método __str__\n",
    "print(evento4)\n",
    "print(evento5)\n",
    "\n",
    "# Comparando os eventos\n",
    "print(f\"Evento4 == Evento5? {evento4 == evento5}\")\n",
    "print(f\"Evento4 != Evento5? {evento4 != evento5}\")\n",
    "print(f\"Evento4 < Evento5? {evento4 < evento5}\")\n",
    "print(f\"Evento4 <= Evento5? {evento4 <= evento5}\")\n",
    "print(f\"Evento4 > Evento5? {evento4 > evento5}\")\n",
    "print(f\"Evento4 >= Evento5? {evento4 >= evento5}\")\n"
   ]
  }
 ],
 "metadata": {
  "language_info": {
   "name": "python"
  }
 },
 "nbformat": 4,
 "nbformat_minor": 2
}
